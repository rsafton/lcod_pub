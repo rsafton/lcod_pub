{
 "cells": [
  {
   "cell_type": "markdown",
   "metadata": {},
   "source": [
    "<h2>Levelized Cost of Driving Calculator</h2>\n",
    "\n",
    "The Purpose of this tool is to compare the levelized cost of driving (LCOD) for various types of vehilces based on assumptions made in the report *Canada's Energy Future 2018* published by the National Energy Board (NEB). LCOD is calculated by taking a number of variables into account including; the purchase price of a vehicle, fuel costs, the discount rate, and the expected life of the vehicle."
   ]
  },
  {
   "cell_type": "markdown",
   "metadata": {},
   "source": [
    "Below is the script which pulls the data needed to make these calculations. Purchase and fuel cost data is taken from the NEB, while annual up keep cost assumptions are based on journal articles. "
   ]
  },
  {
   "cell_type": "code",
   "execution_count": 7,
   "metadata": {
    "code_folding": [
     0,
     36,
     38
    ]
   },
   "outputs": [],
   "source": [
    "#Import and clean data\n",
    "import pandas as pd\n",
    "pd.options.mode.chained_assignment = None \n",
    "import matplotlib.pyplot as plt\n",
    "import numpy as np\n",
    "import datetime as dt\n",
    "import seaborn as sns\n",
    "from __future__ import print_function\n",
    "from ipywidgets import interact, interactive, fixed, interact_manual\n",
    "import ipywidgets as widgets\n",
    "from ipywidgets import Layout, Box\n",
    "from textwrap import wrap\n",
    "\n",
    "#Set current year\n",
    "now = dt.datetime.now()\n",
    "cur_year = now.year\n",
    "\n",
    "#Import electricity data and gasoline data from EF, saved to local drive\n",
    "end_use_data = pd.read_excel('C:\\\\Users\\\\saftryan\\\\English End Use Prices.xlsx') #Remap to local folder\n",
    "elc_data = end_use_data[(end_use_data.Variable_English == 'Electricity') & (end_use_data.Sector == 'Residential') & (end_use_data.Case != 'High Price') & (end_use_data.Case != 'Low Price')]\n",
    "elc_data['$/unit'] = elc_data['Value']/277.778\n",
    "elc_data['Variable_English'] = 'B'\n",
    "reg_gas = end_use_data[(end_use_data.Variable_English == 'Gasoline') & (end_use_data.Sector == 'Transportation') & (end_use_data.Case != 'High Price') & (end_use_data.Case != 'Low Price')]\n",
    "reg_gas['$/unit'] = reg_gas['Value']*34.66/1000\n",
    "reg_gas['Variable_English'] = 'X'\n",
    "prm_gas = reg_gas.copy()\n",
    "prm_gas['$/unit'] = prm_gas['$/unit']*1.1\n",
    "prm_gas['Variable_English'] = 'Z'\n",
    "diesel = end_use_data[(end_use_data.Variable_English == 'Diesel') & (end_use_data.Sector == 'Transportation') & (end_use_data.Case != 'High Price') & (end_use_data.Case != 'Low Price')]\n",
    "diesel['$/unit'] = diesel['Value']*38.68/1000\n",
    "diesel['Variable_English'] ='D'\n",
    "neb_fuel = reg_gas.append(prm_gas)\n",
    "neb_fuel = neb_fuel.append(diesel)\n",
    "neb_fuel = neb_fuel.append(elc_data)\n",
    "\n",
    "#Vehicle Costs\n",
    "all_ice_cost = pd.DataFrame(data={'ice': ['COMPACT','FULL-SIZE','MID-SIZE','MINICOMPACT','MINIVAN','PICKUP TRUCK - SMALL','PICKUP TRUCK - STANDARD','STATION WAGON - MID-SIZE','STATION WAGON - SMALL','SUBCOMPACT','SUV - SMALL','SUV - STANDARD','TWO-SEATER'],\n",
    "                                  'cost': [19500,32000,24000,34000,31000,26000,34000,49000,21000,39000,29000,45000,100000]})\n",
    "all_ev_cost = pd.DataFrame(data={'ev': ['BMW i3','BOLT','FOCUS','IONIQ','LEAF','FORTWO','MODEL 3','MODEL S','MODEL X','GOLF'],\n",
    "                                 'cost': [45500, 36600, 30000, 37500, 36800, 27400, 60100, 101300, 116000, 36400]})\n",
    "ef_costs = pd.read_excel('C:\\\\Users\\\\saftryan\\\\LCOD stuff\\\\EF Veh Costs.xlsx')"
   ]
  },
  {
   "cell_type": "markdown",
   "metadata": {},
   "source": [
    "<h2>Functions</h2>\n",
    "\n",
    "- **sets:** creates a list of based on all of the unque values in a column\n",
    "- **LCOD_calc:** calculates the Levilized Cost of Driving using the formula:\n",
    "\n",
    "\n",
    "$$ LCOD = \\frac {CRF * (CC + I) + M} {km/yr} + \\frac {CAD/Unit}{Eff}$$\n",
    "\n",
    "Where: \n",
    "<br>\n",
    "&nbsp;&nbsp;&nbsp;&nbsp;&nbsp;&nbsp;CC = Capital cost of the vehicle\n",
    "<br>\n",
    "&nbsp;&nbsp;&nbsp;&nbsp;&nbsp;&nbsp;I = Infrastructure investment (e.g. Charging station for EV) \n",
    "<br>\n",
    "&nbsp;&nbsp;&nbsp;&nbsp;&nbsp;&nbsp;M = Annual maintenance cost of the vehicle \n",
    "<br>\n",
    "&nbsp;&nbsp;&nbsp;&nbsp;&nbsp;&nbsp;km/yr = expected kilometers driver per year \n",
    "<br>\n",
    "&nbsp;&nbsp;&nbsp;&nbsp;&nbsp;&nbsp;CAD/Unit = Cost of one unit of fuel (kwh or l of gasoline) \n",
    "<br>\n",
    "&nbsp;&nbsp;&nbsp;&nbsp;&nbsp;&nbsp;Eff = Fuel efficency of vehicle in l or kw per km \n",
    "<br>\n",
    "&nbsp;&nbsp;&nbsp;&nbsp;&nbsp;&nbsp;CRF = Capital Recovery Factor\n",
    "\n",
    "$$ CRF = \\frac {r*(1+r)^t} {(1+r)^t-1} $$\n",
    "\n",
    "Where: \n",
    "<br>\n",
    "&nbsp;&nbsp;&nbsp;&nbsp;&nbsp;&nbsp;r = Discount rate \n",
    "<br>\n",
    "&nbsp;&nbsp;&nbsp;&nbsp;&nbsp;&nbsp;t = Time period\n",
    "\n",
    "- **eff_gains:** projects future improvements in fuel economy using the formula:\n",
    "\n",
    "$$ Eff_i = Eff_0*(1-Imp)^{(t_i - t_0)} $$\n",
    "Where:\n",
    "<br>\n",
    "&nbsp;&nbsp;&nbsp;&nbsp;&nbsp;&nbsp;Eff = Fuel efficency of vehicle in liters of gasoline or kilowatts of electricity per kilometer \n",
    "<br>\n",
    "&nbsp;&nbsp;&nbsp;&nbsp;&nbsp;&nbsp;t = Time period\n",
    "\n"
   ]
  },
  {
   "cell_type": "code",
   "execution_count": 8,
   "metadata": {
    "code_folding": [
     0
    ]
   },
   "outputs": [],
   "source": [
    "#Create a list of names\n",
    "def sets (data):\n",
    "    name_set=[]\n",
    "    for name in data:\n",
    "        if name not in name_set:\n",
    "            name_set.append(name)\n",
    "    return name_set\n",
    "\n",
    "#Calculate LCOD\n",
    "def lcod_calc (cap_cost, main, fuel_cost, fuel_eff):\n",
    "    fuel_eff1=np.where((single_fuel['veh']=='ice_truck') | (single_fuel['veh']=='ev_truck'),fuel_eff*1.5,fuel_eff)\n",
    "    main1=np.where((single_fuel['veh']=='ice_truck') | (single_fuel['veh']=='ev_truck'),main*1.5,main)\n",
    "    lcod = (crf*(cap_cost+I)+main1)/kmyr + fuel_cost/(1/(fuel_eff1/100))\n",
    "    return lcod\n",
    "\n",
    "#Calculate LCOD\n",
    "def lcod_calc1 (cap_cost, main, fuel_cost, fuel_eff):\n",
    "    fuel_eff1=np.where((single_fuel['veh']=='ice_truck') | (single_fuel['veh']=='ev_truck'),fuel_eff*1.5,fuel_eff)\n",
    "    main1=np.where((single_fuel['veh']=='ice_truck') | (single_fuel['veh']=='ev_truck'),main*1.5,main)\n",
    "    lcod = pd.DataFrame((crf*(cap_cost+I)+main1)/kmyr + fuel_cost/(1/(fuel_eff1/100)), columns=['lcod'])\n",
    "    lcod['lcodcc'] = ((crf*(cap_cost))/kmyr) \n",
    "    lcod['lcodi'] = (crf*(I))/kmyr\n",
    "    lcod['lcodm'] = (main1)/kmyr\n",
    "    lcod['lcodkm'] = fuel_cost/(1/(fuel_eff1/100))\n",
    "    return lcod\n",
    "\n",
    "#Calcualte the annual improvement in chenicle efficency\n",
    "def eff_gains (start_eff, impv):\n",
    "    eff_proj = pd.DataFrame(data = {'Year': range(2020,2041), 'improve_time': range(1,22)})\n",
    "    eff_proj['eff'] = start_eff*(1-impv)**(eff_proj['Year']-2020)\n",
    "    return eff_proj\n",
    "\n",
    "def f (z):\n",
    "    return z"
   ]
  },
  {
   "cell_type": "code",
   "execution_count": 10,
   "metadata": {
    "code_folding": [
     0
    ]
   },
   "outputs": [],
   "source": [
    "#Name management and set widgets\n",
    "prov_names = sets(neb_fuel['Region']) \n",
    "prov_names.sort()\n",
    "rgnsel = interactive(f, z=widgets.Dropdown(options=prov_names, description='Region', value='Canada'));\n",
    "infYN = interactive(f, z=widgets.Dropdown(options=['Add EV Charging Station','No EV Charging Station'],\n",
    "                                          description='Charging', value='No EV Charging Station'));"
   ]
  },
  {
   "cell_type": "markdown",
   "metadata": {},
   "source": [
    "<h2>Setting Inputs</h2>\n",
    "\n",
    "The following cell contains variables that can be manipulated by the user, although it is not necessary to make any changes. They are defined below:\n",
    "\n",
    "- **r:** Discount rate, can be set to any value between 0 and 1. A higher number means less value will be placed on future expenses\n",
    "\n",
    "- **t:** The expected life of the vehicle in years\n",
    "\n",
    "- **kmyr:** Enter number of km per year you expect drive\n",
    "\n",
    "- **user_car_cost:** If you want to specify a price in Canadian dollars for the ICE vehicle enter it here, otherwise a class average will be used\n",
    "\n",
    "- **user_ev_cost:** If you want to specify a price in Canadian dollars for the EV vehicle enter it here, otherwise the cost of the base model will be used\n",
    "\n",
    "- **ice_main:** Specify annual amount you expect to pay in  maintenance for an ICE vehicle in Canadian dollars. If unknown leave as default.\n",
    "\n",
    "- **ev_main:** Specify annual amount you expect to pay in Canadian dollars maintenance for an EV in Canadian dollars. If unknown leave as default. \n",
    "\n",
    "- **ev_eff_2020:** The efficency at which an EV uses electricty while driving in 2020, measured in kwh/km\n",
    "\n",
    "- **ice_ann_impv:** Rate of annual improvement in EV efficency. A value of 0.02 % means efficency improves by 2% each year\n",
    "\n",
    "- **ice_eff_2020:** The efficency at which an ICE vehicle uses gasolin while driving in 2020, measured in l/km of gasoline\n",
    "\n",
    "- **ice_ann_impv:** Rate of annual improvement in ICE vehicle efficency. A value of 0.02 % means efficency improves by 2% each year\n",
    "\n",
    "\n",
    "After defining variables run the cell below."
   ]
  },
  {
   "cell_type": "code",
   "execution_count": 14,
   "metadata": {
    "code_folding": [
     0
    ]
   },
   "outputs": [],
   "source": [
    "#Define Variables\n",
    "r=0.10\n",
    "t=15\n",
    "kmyr=15000\n",
    "ice_main = 530\n",
    "ev_main = 450\n",
    "ev_eff_2020 = 20 \n",
    "ev_ann_impv = 0.02\n",
    "ice_eff_2020 = 7\n",
    "ice_ann_impv = 0.01\n",
    "\n",
    "#Calculate CRF based on inputs\n",
    "crf = (r*(1+r)**t)/((1+r)**t-1)\n",
    "\n"
   ]
  },
  {
   "cell_type": "code",
   "execution_count": 16,
   "metadata": {
    "code_folding": [],
    "scrolled": false
   },
   "outputs": [
    {
     "data": {
      "application/vnd.jupyter.widget-view+json": {
       "model_id": "d1773a76f79c4e16a34610ece5c519cc",
       "version_major": 2,
       "version_minor": 0
      },
      "text/plain": [
       "interactive(children=(Dropdown(description='Region', index=1, options=('Alberta', 'British Columbia', 'Canada'…"
      ]
     },
     "metadata": {},
     "output_type": "display_data"
    },
    {
     "data": {
      "application/vnd.jupyter.widget-view+json": {
       "model_id": "da07854ef260421a9be8926a14894428",
       "version_major": 2,
       "version_minor": 0
      },
      "text/plain": [
       "interactive(children=(Dropdown(description='Charging', index=1, options=('Add EV Charging Station', 'No EV Cha…"
      ]
     },
     "metadata": {},
     "output_type": "display_data"
    },
    {
     "data": {
      "text/plain": [
       "<seaborn.axisgrid.FacetGrid at 0x27d0fd6a470>"
      ]
     },
     "execution_count": 16,
     "metadata": {},
     "output_type": "execute_result"
    },
    {
     "data": {
      "image/png": "[encoded data removed]",
      "text/plain": [
       "<Figure size 720x360 with 2 Axes>"
      ]
     },
     "metadata": {},
     "output_type": "display_data"
    }
   ],
   "source": [
    "#Select the region you wish to run the comparison for\n",
    "display(rgnsel)\n",
    "display(infYN)\n",
    "\n",
    "#Create list of province names\n",
    "region = rgnsel.result\n",
    "if infYN.result == 'Add EV Charging Station':\n",
    "    I = 1000\n",
    "else:\n",
    "    I = 0\n",
    "\n",
    "ev_eff_proj = eff_gains(ev_eff_2020, ev_ann_impv)\n",
    "ev_eff_proj['Variable_English'] = 'B'\n",
    "ice_eff_proj = eff_gains(ice_eff_2020, ice_ann_impv)\n",
    "ice_eff_proj['Variable_English'] = 'X'\n",
    "veh_eff_proj = ev_eff_proj.append(ice_eff_proj)\n",
    "\n",
    "eff_merged = ef_costs.merge(neb_fuel, on=['Year', 'Variable_English', 'Case'])\n",
    "eff_merged = eff_merged.merge(veh_eff_proj, on=['Year', 'Variable_English'])\n",
    "\n",
    "fuel_type_list = sets(eff_merged['Variable_English'])\n",
    "\n",
    "eff_lcod=[]\n",
    "for fuel_type in (fuel_type_list):\n",
    "    if fuel_type == 'X':\n",
    "        main = ice_main\n",
    "    else:\n",
    "        main = ev_main\n",
    "    single_fuel = eff_merged[(eff_merged.Variable_English == fuel_type)]\n",
    "    lcod_types = lcod_calc1(single_fuel['price'], main, single_fuel['$/unit'], single_fuel['eff'])\n",
    "    single_fuel1 = pd.concat([single_fuel,lcod_types], axis=1)\n",
    "    single_fuel1 = pd.melt(single_fuel1, id_vars=['veh','Year','Variable_English','Case','Region'], value_vars=['lcod', 'lcodcc', 'lcodi','lcodm','lcodkm'])\n",
    "    eff_lcod.append(single_fuel1)\n",
    "veh_eff = pd.concat(eff_lcod)\n",
    "\n",
    "#The line below can be activeate and the directory can be changed if you want to export the LCOD data to a csv file \n",
    "#veh_eff.to_csv('C:\\\\Users\\\\saftryan\\\\LCOD stuff\\\\lcod.csv')\n",
    "rgn_plt = veh_eff[veh_eff.Region == region]\n",
    "#Plot Charts\n",
    "sns.set(font_scale=1.25,)\n",
    "g=sns.catplot(x='Year',y='value',hue='veh',data=rgn_plt, kind='bar',col='Case',ci=None, legend=False,\n",
    "             row_order=['ice_car','ev_car', 'ice_truck','ev_truck'])\n",
    "plt.legend(loc=0, labels = ['ICE Car', 'ICE Truck', 'EV Car', 'EV Truck'], bbox_to_anchor=(1,.5))\n",
    "g.set_titles('{col_name} Case: '+ region)\n",
    "g.set_axis_labels('Year','LCOD (CAD/km)')"
   ]
  },
  {
   "cell_type": "markdown",
   "metadata": {},
   "source": [
    "The above charts show the projected LCOD in the region selected earlier based off of the vehicle cost assumptions made in the report *Canada's Energy Future 2018*.\n",
    "\n",
    "The next section compares the difference in LCOD between an ICE and an EV in the Reference and Tecnology cases for the same sized vehicles (e.g. ICE Car vs EV Car) based off of the assumptions made in the previous section. To display charts showing these results run the cell below."
   ]
  },
  {
   "cell_type": "code",
   "execution_count": 13,
   "metadata": {
    "code_folding": [
     0
    ]
   },
   "outputs": [
    {
     "data": {
      "text/plain": [
       "<matplotlib.lines.Line2D at 0x27d140b2358>"
      ]
     },
     "execution_count": 13,
     "metadata": {},
     "output_type": "execute_result"
    },
    {
     "data": {
      "image/png": "[encoded data removed]",
      "text/plain": [
       "<Figure size 720x360 with 2 Axes>"
      ]
     },
     "metadata": {},
     "output_type": "display_data"
    }
   ],
   "source": [
    "#Calculate differences in LCOD\n",
    "ice_lcod = eff_lcod[0]\n",
    "ev_lcod = eff_lcod[1]\n",
    "ev_lcod = ev_lcod.reset_index(drop=True)\n",
    "ice_lcod['ev_lcod'] = ev_lcod['value']\n",
    "ice_lcod['comp_type'] = ice_lcod['veh'] + '-' + ev_lcod['veh']\n",
    "ice_lcod['ice_less_ev'] = ice_lcod['value'] - ice_lcod['ev_lcod']\n",
    "comp_list = sets(ice_lcod['comp_type'])\n",
    "rgn_plt = ice_lcod[(ice_lcod.Region == region) & (ice_lcod.variable == 'lcod')]\n",
    "\n",
    "sns.set(font_scale=1.25)\n",
    "g=sns.catplot(x='Year',y='ice_less_ev',hue='comp_type',data=rgn_plt,\n",
    "              kind='bar',col='Case',ci=None, legend=False, palette='colorblind')\n",
    "g.set_axis_labels('Year','LCOD Difference (CAD/km)')\n",
    "g.set_titles('{col_name} Case: '+ region)\n",
    "ax1, ax2 = g.axes[0]\n",
    "plt.legend(loc=0, labels = ['ICE Car - EV Car', 'ICE Truck - EV Truck'], bbox_to_anchor=(1,.5))\n",
    "ax1.axhline(0, ls='--', color='grey')\n",
    "ax2.axhline(0, ls='--', color='grey')"
   ]
  },
  {
   "cell_type": "markdown",
   "metadata": {},
   "source": [
    "These charts show the difference in LCOD between ICE vehicles and EVs based off of the assumptions made earlier in the report. A positive number indicates that the electric version of either the car or truck has a lower LCOD than that of its ICE equivilant, meaning that is cheaper to drive on a per km basis. The point where EVs become cheaper than ICE vehicles will vary based on the imputs."
   ]
  },
  {
   "cell_type": "code",
   "execution_count": 121,
   "metadata": {
    "code_folding": [
     0
    ]
   },
   "outputs": [],
   "source": [
    "#The lines below can be activeate and the directory can be changed if you want to export the LCOD data to a csv file \n",
    "veh_eff.to_csv('C:\\\\Users\\\\saftryan\\\\LCOD stuff\\\\lcod.csv')\n",
    "ice_lcod.to_csv('C:\\\\Users\\\\saftryan\\\\LCOD stuff\\\\lcod_comp.csv')"
   ]
  },
  {
   "cell_type": "code",
   "execution_count": null,
   "metadata": {},
   "outputs": [],
   "source": []
  }
 ],
 "metadata": {
  "kernelspec": {
   "display_name": "Python 3",
   "language": "python",
   "name": "python3"
  },
  "language_info": {
   "codemirror_mode": {
    "name": "ipython",
    "version": 3
   },
   "file_extension": ".py",
   "mimetype": "text/x-python",
   "name": "python",
   "nbconvert_exporter": "python",
   "pygments_lexer": "ipython3",
   "version": "3.7.0"
  }
 },
 "nbformat": 4,
 "nbformat_minor": 2
}
